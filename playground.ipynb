{
 "cells": [
  {
   "cell_type": "code",
   "execution_count": 1,
   "metadata": {},
   "outputs": [
    {
     "name": "stderr",
     "output_type": "stream",
     "text": [
      "/opt/conda/lib/python3.7/site-packages/pysal/explore/segregation/network/network.py:16: UserWarning: You need pandana and urbanaccess to work with segregation's network module\n",
      "You can install them with  `pip install urbanaccess pandana` or `conda install -c udst pandana urbanaccess`\n",
      "  \"You need pandana and urbanaccess to work with segregation's network module\\n\"\n"
     ]
    }
   ],
   "source": [
    "%matplotlib inline\n",
    "import matplotlib.pyplot as plt\n",
    "import geopandas as gpd\n",
    "import numpy as np\n",
    "from shapely.geometry import Polygon\n",
    "\n",
    "from sklearn.metrics import mean_squared_error\n",
    "from sklearn.linear_model import LinearRegression, LogisticRegression\n",
    "import pysal as ps\n",
    "import spacv\n",
    "\n",
    "from spacv.grid_builder import *\n",
    "from spacv.spacv import cross_val_score\n",
    "from sklearn.neighbors import KDTree"
   ]
  },
  {
   "cell_type": "code",
   "execution_count": 2,
   "metadata": {},
   "outputs": [],
   "source": [
    "df = gpd.read_file('/opt/conda/lib/python3.7/site-packages/libpysal/examples/baltim/baltim.shp')\n",
    "\n",
    "XYs = df['geometry']\n",
    "X = df[['NROOM', 'DWELL', 'NBATH', 'PRICE', 'LOTSZ', 'SQFT']]\n",
    "y = df['PATIO']\n",
    "\n",
    "model = LinearRegression(fit_intercept=True)"
   ]
  },
  {
   "cell_type": "code",
   "execution_count": 9,
   "metadata": {},
   "outputs": [],
   "source": [
    "cv = spacv.HBLOCK(buffer_radius=75, method='unique')"
   ]
  },
  {
   "cell_type": "code",
   "execution_count": 11,
   "metadata": {},
   "outputs": [
    {
     "name": "stdout",
     "output_type": "stream",
     "text": [
      "[ 99 100 101 102 104 105 106 108 114 115 185 187 188 196 197 198] [142 143 144 163]\n",
      "[101] [139 141 145 146 147 149 150 151 164 174 176]\n",
      "[] [117 140]\n",
      "[25 36 37 45 49 51] [ 96  97 116 118 122 124 126 127 128]\n",
      "[ 99 100 101 102 106 114 196 198] [ 40 152 153 154 155 156 157 158 159 160 161 162 165 169 171]\n",
      "[101] [  0  84  88  89 130 131 132 148 166 167 168 170 172 173 177]\n",
      "[] [ 16  17 119 123 125 133 134 136 137 138 175 178]\n",
      "[25 36 51] [110 112 120 121 129 135]\n",
      "[  9  25  26  27  28  29  30  31  32  33  34  35  36  37  38  40  41  42\n",
      "  43  44  45  46  47  48  49  50  51  53  57  76  78  80  85 142 143 144\n",
      " 152 153 154 155 156 157 158 159 160 161 162 163 165 169 170 171] [114]\n",
      "[ 96 100 101 106 114] [26 27 28 30 31 32 33 34 38 41]\n",
      "[101] [39 60 61 62 63 79 81 82 83 85 86 87 90 92 95]\n",
      "[] [ 15  18  20  21  22  71  72  73  74  91  93  94 203 204]\n",
      "[25 36] [ 98  99 102 103 105 107 108 109 111 113 115 202 205 206]\n",
      "[ 25  26  27  28  29  30  31  32  33  34  35  36  37  38  40  41  42  43\n",
      "  44  45  46  47  48  49  50  51  76  78  80 142 143 144 145 148 152 153\n",
      " 154 155 156 157 158 159 160 161 162 163 164 165 169 170 171] [100 106]\n",
      "[ 96  97 100 101 102 106 112 114] [25 29 35 36 37 42 44 45 46 48 49 50 76]\n",
      "[101] [52 53 54 55 56 57 58 59 64 65 66 68 70 77 78 80]\n",
      "[] [  8  19  23  24  67  75 183 186 189 190 191 194 195 208 209 210]\n",
      "[ 25  36 156] [104 199 201 207]\n",
      "[ 25  26  27  28  29  30  31  32  33  34  35  36  37  38  40  41  42  43\n",
      "  44  45  46  48  49  50  51  76  85 142 143 144 145 146 148 149 152 153\n",
      " 154 155 156 157 158 159 160 161 162 163 164 165 166 167 169 170 171] [101]\n",
      "[ 96  97  99 100 101 102 106 108 110 112 114 115 116 118 124 128] [43 51]\n",
      "[101] [ 5  7  9 11 13 47 69]\n",
      "[] [  1   2   3   4   6  10  12  14 179 180 181 182 184 188 192]\n",
      "[ 25  36 143 144 153 154 155 156 159 161 162 163] [185 187 193 196 197 198 200]\n"
     ]
    }
   ],
   "source": [
    "for train,test in cv.split(XYs):\n",
    "    \n",
    "    print(train,test)"
   ]
  },
  {
   "cell_type": "code",
   "execution_count": null,
   "metadata": {},
   "outputs": [],
   "source": []
  },
  {
   "cell_type": "code",
   "execution_count": null,
   "metadata": {},
   "outputs": [],
   "source": []
  },
  {
   "cell_type": "code",
   "execution_count": 4,
   "metadata": {},
   "outputs": [],
   "source": [
    "scores = cross_val_score(model, XYs, X, y, cv, mean_squared_error)"
   ]
  },
  {
   "cell_type": "code",
   "execution_count": 5,
   "metadata": {},
   "outputs": [
    {
     "data": {
      "text/plain": [
       "0.31568748902435223"
      ]
     },
     "execution_count": 5,
     "metadata": {},
     "output_type": "execute_result"
    }
   ],
   "source": [
    "np.sqrt(\n",
    "    np.mean(scores)\n",
    ")"
   ]
  },
  {
   "cell_type": "code",
   "execution_count": null,
   "metadata": {},
   "outputs": [],
   "source": []
  },
  {
   "cell_type": "code",
   "execution_count": null,
   "metadata": {},
   "outputs": [],
   "source": [
    "f, ax = plt.subplots(1)\n",
    "construct_blocks(df, tiles_x=3, tiles_y=5, method='unique').plot(column='grid_id', cmap='Greens',ax=ax)\n",
    "df.plot(ax=ax, color='black')"
   ]
  },
  {
   "cell_type": "code",
   "execution_count": null,
   "metadata": {},
   "outputs": [],
   "source": [
    "f, ax = plt.subplots(1)\n",
    "blocks(df, method='systematic', tiles_x=7, tiles_y=5, direction='anti').plot(column='grid_id', cmap='Set1', ax=ax)\n",
    "df.plot(ax=ax, color='black')"
   ]
  },
  {
   "cell_type": "code",
   "execution_count": null,
   "metadata": {},
   "outputs": [],
   "source": [
    "f, ax = plt.subplots(1)\n",
    "blocks(df, method='randomized', tiles_x=5, tiles_y=5, n_groups=3).plot(column='grid_id', ax=ax)\n",
    "df.plot(ax=ax, color='black')"
   ]
  }
 ],
 "metadata": {
  "kernelspec": {
   "display_name": "Python 3",
   "language": "python",
   "name": "python3"
  },
  "language_info": {
   "codemirror_mode": {
    "name": "ipython",
    "version": 3
   },
   "file_extension": ".py",
   "mimetype": "text/x-python",
   "name": "python",
   "nbconvert_exporter": "python",
   "pygments_lexer": "ipython3",
   "version": "3.7.8"
  }
 },
 "nbformat": 4,
 "nbformat_minor": 4
}
