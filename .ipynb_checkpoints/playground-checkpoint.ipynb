{
 "cells": [
  {
   "cell_type": "code",
   "execution_count": 1,
   "metadata": {},
   "outputs": [
    {
     "name": "stderr",
     "output_type": "stream",
     "text": [
      "/opt/conda/lib/python3.7/site-packages/geopandas/_compat.py:88: UserWarning: The Shapely GEOS version (3.7.2dev-CAPI-1.11.2 0) is incompatible with the GEOS version PyGEOS was compiled with (3.8.1-CAPI-1.13.3). Conversions between both will be slow.\n",
      "  shapely_geos_version, geos_capi_version_string\n"
     ]
    }
   ],
   "source": [
    "%matplotlib inline\n",
    "import matplotlib.pyplot as plt\n",
    "import spacv\n",
    "import geopandas as gpd\n",
    "import numpy as np\n",
    "from shapely.geometry import Polygon\n",
    "\n",
    "from sklearn.metrics import mean_squared_error\n",
    "from sklearn.linear_model import LinearRegression, LogisticRegression\n",
    "import pysal as ps"
   ]
  },
  {
   "cell_type": "code",
   "execution_count": 2,
   "metadata": {},
   "outputs": [],
   "source": [
    "df = gpd.read_file('/opt/conda/lib/python3.7/site-packages/libpysal/examples/baltim/baltim.shp')"
   ]
  },
  {
   "cell_type": "code",
   "execution_count": 3,
   "metadata": {},
   "outputs": [],
   "source": [
    "XYs = df['geometry']\n",
    "X = df[['NROOM', 'DWELL', 'NBATH']]\n",
    "y = df['PATIO']"
   ]
  },
  {
   "cell_type": "code",
   "execution_count": 4,
   "metadata": {},
   "outputs": [],
   "source": [
    "model = LinearRegression(fit_intercept=True)"
   ]
  },
  {
   "cell_type": "code",
   "execution_count": 5,
   "metadata": {},
   "outputs": [],
   "source": [
    "from grid_builder import *"
   ]
  },
  {
   "cell_type": "code",
   "execution_count": 6,
   "metadata": {},
   "outputs": [],
   "source": [
    "tiles_x = 5\n",
    "tiles_y = 5\n",
    "\n",
    "grid = build_grid(df, tiles_x, tiles_y)"
   ]
  },
  {
   "cell_type": "code",
   "execution_count": 33,
   "metadata": {},
   "outputs": [],
   "source": [
    "import numpy as np\n",
    "import geopandas as gpd\n",
    "from shapely.geometry import Polygon\n",
    "\n",
    "\n",
    "def construct_grid(XYs, tiles_x, tiles_y):\n",
    "    \n",
    "    minx, miny, maxx, maxy = XYs.total_bounds\n",
    "\n",
    "    # Set length and height of tiles\n",
    "    dx = (maxx - minx) / tiles_x\n",
    "    dy = (maxy - miny) / tiles_y\n",
    "\n",
    "    polys = []\n",
    "\n",
    "    # Build grid of polygons\n",
    "    for tile_y in range(0, tiles_y):\n",
    "        for tile_x in range(0, tiles_x):\n",
    "            polys.append(\n",
    "                Polygon([\n",
    "                    # bottom-left\n",
    "                    (minx + (tile_x * dx), miny + ( tile_y * dy ) ), \n",
    "                    # bottom-right\n",
    "                    (minx + ((tile_x + 1) * dx), miny + ( tile_y * dy  ) ), \n",
    "                    # top-right\n",
    "                    (minx + ( (tile_x + 1) * dx), miny  + ( (tile_y + 1) * dy) ), \n",
    "                    #top-left\n",
    "                    (minx + (tile_x * dx), miny + (tile_y + 1) * dy )\n",
    "            ]))\n",
    "\n",
    "    return gpd.GeoDataFrame({'geometry':polys})\n",
    "\n",
    "def assign_randomized(grid, n_groups=5):\n",
    "    \n",
    "    # Determinate number of randomized groups\n",
    "    n_random_grps = np.arange(0, n_groups)\n",
    "    n_grids = grid.shape[0]\n",
    "\n",
    "    # Allocate random group id to each grid row\n",
    "    grid_id = np.random.choice(n_random_grps, size=n_grids, replace=True)\n",
    "\n",
    "    # ADD: check most dissimilar\n",
    "    \n",
    "    return grid_id\n",
    "\n",
    "def assign_systematic(grid, tiles_x, tiles_y, direction='diagonal'):\n",
    "\n",
    "    # Reshape length of grid to matrix\n",
    "    sys_matrix = np.arange(0, tiles_x * tiles_y) \\\n",
    "                   .reshape(tiles_y, tiles_x)\n",
    "    leng, wid = sys_matrix.shape\n",
    "\n",
    "    # Set systematic pattern, diagonal or anti-diagonal\n",
    "    if direction == 'diagonal':\n",
    "        diags = [sys_matrix.diagonal(i) \n",
    "                     for i in range(wid-1, -leng,-1)]\n",
    "    if direction == 'anti':\n",
    "        diags = [sys_matrix[::-1,:].diagonal(i) \n",
    "                     for i in range(-leng+1, wid)]\n",
    "        \n",
    "    # Construct lookup between diagonal element indices and grid dataframe\n",
    "    systematic_lookup = dict([\n",
    "                            tuple([element, key]) \n",
    "                                for key, diag in enumerate(diags) \n",
    "                                    for element in diag\n",
    "                        ])\n",
    "\n",
    "    grid_id = grid.index.map(systematic_lookup)\n",
    "\n",
    "    return grid_id\n",
    "\n",
    "def blocks(XYs, method, tiles_x, tiles_y, **kwargs):\n",
    "    \n",
    "    grid = construct_grid(XYs, tiles_x, tiles_y)\n",
    "    \n",
    "    if method == 'unique':\n",
    "        grid['grid_id'] = grid.index\n",
    "    if method == 'randomized':\n",
    "        grid['grid_id'] = assign_randomized(grid, kwargs.get('n_groups'))\n",
    "    if method == 'systematic':\n",
    "        grid['grid_id'] = assign_systematic(grid, tiles_x, tiles_y,kwargs.get('direction'))\n",
    "        \n",
    "    return grid\n",
    "    "
   ]
  },
  {
   "cell_type": "code",
   "execution_count": 41,
   "metadata": {},
   "outputs": [
    {
     "data": {
      "text/plain": [
       "<matplotlib.axes._subplots.AxesSubplot at 0x7f264c84d320>"
      ]
     },
     "execution_count": 41,
     "metadata": {},
     "output_type": "execute_result"
    },
    {
     "data": {
      "image/png": "[encoded data removed]",
      "text/plain": [
       "<Figure size 432x288 with 1 Axes>"
      ]
     },
     "metadata": {
      "needs_background": "light"
     },
     "output_type": "display_data"
    }
   ],
   "source": [
    "blocks(df, 'systematic', tiles_x=5, tiles_y=5, direction='anti').plot(column='grid_id', cmap='Set1')"
   ]
  },
  {
   "cell_type": "code",
   "execution_count": 42,
   "metadata": {},
   "outputs": [
    {
     "data": {
      "text/plain": [
       "<matplotlib.axes._subplots.AxesSubplot at 0x7f264c765c18>"
      ]
     },
     "execution_count": 42,
     "metadata": {},
     "output_type": "execute_result"
    },
    {
     "data": {
      "image/png": "[encoded data removed]",
      "text/plain": [
       "<Figure size 432x288 with 1 Axes>"
      ]
     },
     "metadata": {
      "needs_background": "light"
     },
     "output_type": "display_data"
    }
   ],
   "source": [
    "blocks(df, 'randomized', tiles_x=5, tiles_y=5, n_groups=12).plot(column='grid_id')"
   ]
  },
  {
   "cell_type": "code",
   "execution_count": null,
   "metadata": {},
   "outputs": [],
   "source": []
  },
  {
   "cell_type": "code",
   "execution_count": 459,
   "metadata": {},
   "outputs": [],
   "source": []
  },
  {
   "cell_type": "code",
   "execution_count": null,
   "metadata": {},
   "outputs": [],
   "source": []
  },
  {
   "cell_type": "code",
   "execution_count": null,
   "metadata": {},
   "outputs": [],
   "source": []
  },
  {
   "cell_type": "code",
   "execution_count": null,
   "metadata": {},
   "outputs": [],
   "source": []
  },
  {
   "cell_type": "code",
   "execution_count": null,
   "metadata": {},
   "outputs": [],
   "source": []
  },
  {
   "cell_type": "code",
   "execution_count": null,
   "metadata": {},
   "outputs": [],
   "source": [
    "class HBLOCK():\n",
    "    \n",
    "    def __init__(\n",
    "        self,\n",
    "        width=None,\n",
    "        height=None,\n",
    "        method=None\n",
    "    ):\n",
    "        if method == None:\n",
    "            self.method = 'unique'\n",
    "        \n",
    "        self.width = width\n",
    "        self.height = height\n",
    "        self.method = method\n",
    "    \n",
    "    # define grid unique, contiguous, systematic, optimized random\n",
    "    block_id = block_split(\n",
    "        coordinates = XYs,\n",
    "        width = 500,\n",
    "        height = 500,\n",
    "        method = 'unique'\n",
    "    )\n",
    "    \n",
    "    # buffer grid or not?\n",
    "    \n",
    "    \n",
    "    # split by grid_ids\n",
    "    \n",
    "    "
   ]
  },
  {
   "cell_type": "code",
   "execution_count": null,
   "metadata": {},
   "outputs": [],
   "source": []
  },
  {
   "cell_type": "code",
   "execution_count": 12,
   "metadata": {},
   "outputs": [],
   "source": [
    "cv = spacv.SLOO(XYs, radius=50)\n",
    "\n",
    "scores = spacv.cross_val_score(model, X, y, cv, mean_squared_error)"
   ]
  },
  {
   "cell_type": "code",
   "execution_count": 14,
   "metadata": {},
   "outputs": [
    {
     "data": {
      "text/plain": [
       "0.3894339068089884"
      ]
     },
     "execution_count": 14,
     "metadata": {},
     "output_type": "execute_result"
    }
   ],
   "source": [
    "np.sqrt(\n",
    "    np.mean(scores)\n",
    ")"
   ]
  },
  {
   "cell_type": "code",
   "execution_count": null,
   "metadata": {},
   "outputs": [],
   "source": []
  }
 ],
 "metadata": {
  "kernelspec": {
   "display_name": "Python 3",
   "language": "python",
   "name": "python3"
  },
  "language_info": {
   "codemirror_mode": {
    "name": "ipython",
    "version": 3
   },
   "file_extension": ".py",
   "mimetype": "text/x-python",
   "name": "python",
   "nbconvert_exporter": "python",
   "pygments_lexer": "ipython3",
   "version": "3.7.3"
  }
 },
 "nbformat": 4,
 "nbformat_minor": 4
}
