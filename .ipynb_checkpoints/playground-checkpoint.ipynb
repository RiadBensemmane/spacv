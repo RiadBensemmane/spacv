{
 "cells": [
  {
   "cell_type": "code",
   "execution_count": 1,
   "metadata": {},
   "outputs": [
    {
     "name": "stderr",
     "output_type": "stream",
     "text": [
      "/opt/conda/lib/python3.7/site-packages/geopandas/_compat.py:88: UserWarning: The Shapely GEOS version (3.7.2dev-CAPI-1.11.2 0) is incompatible with the GEOS version PyGEOS was compiled with (3.8.1-CAPI-1.13.3). Conversions between both will be slow.\n",
      "  shapely_geos_version, geos_capi_version_string\n"
     ]
    }
   ],
   "source": [
    "%matplotlib inline\n",
    "import matplotlib.pyplot as plt\n",
    "import spacv\n",
    "import geopandas as gpd\n",
    "import numpy as np\n",
    "from shapely.geometry import Polygon\n",
    "\n",
    "from sklearn.metrics import mean_squared_error\n",
    "from sklearn.linear_model import LinearRegression, LogisticRegression"
   ]
  },
  {
   "cell_type": "code",
   "execution_count": 685,
   "metadata": {},
   "outputs": [],
   "source": [
    "import pysal as ps"
   ]
  },
  {
   "cell_type": "code",
   "execution_count": 2,
   "metadata": {},
   "outputs": [],
   "source": [
    "df = gpd.read_file('/opt/conda/lib/python3.7/site-packages/libpysal/examples/baltim/baltim.shp')"
   ]
  },
  {
   "cell_type": "code",
   "execution_count": 3,
   "metadata": {},
   "outputs": [],
   "source": [
    "XYs = df['geometry']\n",
    "X = df[['NROOM', 'DWELL', 'NBATH']]\n",
    "y = df['PATIO']"
   ]
  },
  {
   "cell_type": "code",
   "execution_count": 4,
   "metadata": {},
   "outputs": [],
   "source": [
    "model = LinearRegression(fit_intercept=True)"
   ]
  },
  {
   "cell_type": "code",
   "execution_count": 5,
   "metadata": {},
   "outputs": [],
   "source": [
    "model = LogisticRegression(fit_intercept=True)"
   ]
  },
  {
   "cell_type": "code",
   "execution_count": 463,
   "metadata": {},
   "outputs": [],
   "source": [
    "def build_grid(XYs, tiles_x, tiles_y):\n",
    "    \n",
    "    minx, miny, maxx, maxy = XYs.total_bounds\n",
    "\n",
    "    dx = (maxx - minx) / tiles_x\n",
    "    dy = (maxy - miny) / tiles_y\n",
    "\n",
    "    polys = []\n",
    "\n",
    "    for tile_y in range(0, tiles_y):\n",
    "\n",
    "        for tile_x in range(0, tiles_x):\n",
    "\n",
    "            polys.append(\n",
    "                Polygon([\n",
    "                    \n",
    "                    # bottom-left\n",
    "                    (minx + (tile_x * dx), miny + ( tile_y * dy ) ), \n",
    "\n",
    "                    # bottom-right\n",
    "                    (minx + ((tile_x + 1) * dx), miny + ( tile_y * dy  ) ), \n",
    "\n",
    "                    # top-right\n",
    "                    (minx + ( (tile_x + 1) * dx), miny  + ( (tile_y + 1) * dy) ), \n",
    "\n",
    "                    #top-left\n",
    "                    (minx + (tile_x * dx), miny + (tile_y + 1) * dy )\n",
    "            ]))\n",
    "\n",
    "    return gpd.GeoDataFrame({'geometry':polys})"
   ]
  },
  {
   "cell_type": "code",
   "execution_count": 553,
   "metadata": {},
   "outputs": [],
   "source": [
    "def assign_randomized(grid, n_groups):\n",
    "    \n",
    "    n_random_grps = np.arange(0, n_groups)\n",
    "    \n",
    "    n_grids = grid.shape[0]\n",
    "\n",
    "    grid_id = np.random.choice(n_random_grps, size=n_grids, replace=True)\n",
    "\n",
    "    # check most dissimilar\n",
    "    \n",
    "    return grid_id"
   ]
  },
  {
   "cell_type": "code",
   "execution_count": 554,
   "metadata": {},
   "outputs": [],
   "source": [
    "def assign_systematic(grid, direction):\n",
    "\n",
    "    sys_matrix = np.arange(0, tiles_x * tiles_y).reshape(tiles_y, tiles_x)\n",
    "\n",
    "    leng, wid= sys_matrix.shape\n",
    "\n",
    "    if direction == 'anti':\n",
    "        diags = [sys_matrix[::-1,:].diagonal(i) for i in range(-leng+1, wid)]\n",
    "    else:\n",
    "        diags = [sys_matrix.diagonal(i) for i in range(wid-1, -leng,-1)]\n",
    "\n",
    "    systematic_lookup = dict([tuple([element, key])  for key, diag in enumerate(diags) for element in diag])\n",
    "\n",
    "    grid_id = grid.index.map(systematic_lookup)\n",
    "\n",
    "    return grid_id"
   ]
  },
  {
   "cell_type": "code",
   "execution_count": 555,
   "metadata": {},
   "outputs": [],
   "source": [
    "def grid_assignment(grid, method, *args):\n",
    "    \n",
    "    if method == 'randomized':\n",
    "        \n",
    "        grid['grid_id'] = assign_randomized(grid)\n",
    "        \n",
    "    if method == 'unique':\n",
    "        \n",
    "        grid['grid_id'] = grid.index\n",
    "        \n",
    "    if method == 'systematic':\n",
    "        \n",
    "        grid['grid_id'] = assign_systematic(grid, *args)\n",
    "        \n",
    "    return grid\n",
    "    \n",
    "    "
   ]
  },
  {
   "cell_type": "code",
   "execution_count": null,
   "metadata": {},
   "outputs": [],
   "source": []
  },
  {
   "cell_type": "code",
   "execution_count": 696,
   "metadata": {},
   "outputs": [],
   "source": [
    "df = gpd.read_file('/opt/conda/lib/python3.7/site-packages/libpysal/examples/us_income/us48.shp')"
   ]
  },
  {
   "cell_type": "code",
   "execution_count": 707,
   "metadata": {},
   "outputs": [],
   "source": [
    "tiles_x = 5\n",
    "tiles_y = 5\n",
    "\n",
    "grid = build_grid(df, tiles_x, tiles_y)"
   ]
  },
  {
   "cell_type": "code",
   "execution_count": 708,
   "metadata": {},
   "outputs": [
    {
     "data": {
      "text/plain": [
       "<matplotlib.axes._subplots.AxesSubplot at 0x7feaf03f43c8>"
      ]
     },
     "execution_count": 708,
     "metadata": {},
     "output_type": "execute_result"
    },
    {
     "data": {
      "image/png": "[encoded data removed]",
      "text/plain": [
       "<Figure size 432x288 with 1 Axes>"
      ]
     },
     "metadata": {
      "needs_background": "light"
     },
     "output_type": "display_data"
    }
   ],
   "source": [
    "f,ax=plt.subplots(1)\n",
    "df.plot(ax=ax)\n",
    "grid.plot(ax=ax,edgecolor='black', alpha=.3, facecolor='yellow')"
   ]
  },
  {
   "cell_type": "code",
   "execution_count": null,
   "metadata": {},
   "outputs": [],
   "source": []
  },
  {
   "cell_type": "code",
   "execution_count": 459,
   "metadata": {},
   "outputs": [],
   "source": []
  },
  {
   "cell_type": "code",
   "execution_count": null,
   "metadata": {},
   "outputs": [],
   "source": []
  },
  {
   "cell_type": "code",
   "execution_count": null,
   "metadata": {},
   "outputs": [],
   "source": []
  },
  {
   "cell_type": "code",
   "execution_count": null,
   "metadata": {},
   "outputs": [],
   "source": []
  },
  {
   "cell_type": "code",
   "execution_count": null,
   "metadata": {},
   "outputs": [],
   "source": []
  },
  {
   "cell_type": "code",
   "execution_count": null,
   "metadata": {},
   "outputs": [],
   "source": [
    "class HBLOCK():\n",
    "    \n",
    "    def __init__(\n",
    "        self,\n",
    "        width=None,\n",
    "        height=None,\n",
    "        method=None\n",
    "    ):\n",
    "        if method == None:\n",
    "            self.method = 'unique'\n",
    "        \n",
    "        self.width = width\n",
    "        self.height = height\n",
    "        self.method = method\n",
    "    \n",
    "    # define grid unique, contiguous, systematic, optimized random\n",
    "    block_id = block_split(\n",
    "        coordinates = XYs,\n",
    "        width = 500,\n",
    "        height = 500,\n",
    "        method = 'unique'\n",
    "    )\n",
    "    \n",
    "    # buffer grid or not?\n",
    "    \n",
    "    \n",
    "    # split by grid_ids\n",
    "    \n",
    "    "
   ]
  },
  {
   "cell_type": "code",
   "execution_count": null,
   "metadata": {},
   "outputs": [],
   "source": []
  },
  {
   "cell_type": "code",
   "execution_count": 12,
   "metadata": {},
   "outputs": [],
   "source": [
    "cv = spacv.SLOO(XYs, radius=50)\n",
    "\n",
    "scores = spacv.cross_val_score(model, X, y, cv, mean_squared_error)"
   ]
  },
  {
   "cell_type": "code",
   "execution_count": 14,
   "metadata": {},
   "outputs": [
    {
     "data": {
      "text/plain": [
       "0.3894339068089884"
      ]
     },
     "execution_count": 14,
     "metadata": {},
     "output_type": "execute_result"
    }
   ],
   "source": [
    "np.sqrt(\n",
    "    np.mean(scores)\n",
    ")"
   ]
  },
  {
   "cell_type": "code",
   "execution_count": null,
   "metadata": {},
   "outputs": [],
   "source": []
  }
 ],
 "metadata": {
  "kernelspec": {
   "display_name": "Python 3",
   "language": "python",
   "name": "python3"
  },
  "language_info": {
   "codemirror_mode": {
    "name": "ipython",
    "version": 3
   },
   "file_extension": ".py",
   "mimetype": "text/x-python",
   "name": "python",
   "nbconvert_exporter": "python",
   "pygments_lexer": "ipython3",
   "version": "3.7.3"
  }
 },
 "nbformat": 4,
 "nbformat_minor": 4
}
